{
 "cells": [
  {
   "cell_type": "code",
   "execution_count": 4,
   "id": "d0dc821c",
   "metadata": {},
   "outputs": [
    {
     "name": "stdout",
     "output_type": "stream",
     "text": [
      "      battery_power  blue  clock_speed  dual_sim  fc  four_g  int_memory\n",
      "0               842     0          2.2         0   1       0           7\n",
      "1              1021     1          0.5         1   0       1          53\n",
      "2               563     1          0.5         1   2       1          41\n",
      "3               615     1          2.5         0   0       0          10\n",
      "4              1821     1          1.2         0  13       1          44\n",
      "...             ...   ...          ...       ...  ..     ...         ...\n",
      "1995            794     1          0.5         1   0       1           2\n",
      "1996           1965     1          2.6         1   0       0          39\n",
      "1997           1911     0          0.9         1   1       1          36\n",
      "1998           1512     0          0.9         0   4       1          46\n",
      "1999            510     1          2.0         1   5       1          45\n",
      "\n",
      "[2000 rows x 7 columns]\n"
     ]
    }
   ],
   "source": [
    "import pandas as pd\n",
    "import numpy as np\n",
    "import seaborn as sns\n",
    "import matplotlib.pyplot as plt\n",
    "data = pd.read_csv(r\"C:\\Users\\tsebo\\Documents\\projects\\AIpython\\Chp4\\train.csv\")\n",
    "X = data.iloc[:,0:20] #independent columns\n",
    "y = data.iloc[:,-1] # pick last column for the target feature\n",
    "threshold = 0.6\n",
    "#Drop columsn with a missing value rate higher than threshold\n",
    "data = data[data.columns[data.isnull().mean() < threshold]]\n",
    "\n",
    "#Drop rows with missing value rate higher than threshold\n",
    "data = data.loc[data.isnull().mean(axis=1) < threshold]\n",
    "threshold = 0.6\n",
    "#Drop columns with a missing value rate higher than threshold\n",
    "data = data[data.columns[data.isnull().mean() < threshold]]\n",
    "\n",
    "#Drop rows with missing value rate higher than threshold\n",
    "data = data.loc[data.isnull().mean(axis=1) < threshold]\n",
    "print(data)"
   ]
  },
  {
   "cell_type": "code",
   "execution_count": null,
   "id": "18b6760c",
   "metadata": {},
   "outputs": [],
   "source": []
  }
 ],
 "metadata": {
  "kernelspec": {
   "display_name": "Python 3 (ipykernel)",
   "language": "python",
   "name": "python3"
  },
  "language_info": {
   "codemirror_mode": {
    "name": "ipython",
    "version": 3
   },
   "file_extension": ".py",
   "mimetype": "text/x-python",
   "name": "python",
   "nbconvert_exporter": "python",
   "pygments_lexer": "ipython3",
   "version": "3.9.12"
  }
 },
 "nbformat": 4,
 "nbformat_minor": 5
}
