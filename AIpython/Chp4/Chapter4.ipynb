{
 "cells": [
  {
   "cell_type": "code",
   "execution_count": null,
   "metadata": {},
   "outputs": [],
   "source": []
  }
 ],
 "metadata": {
  "kernelspec": {
   "display_name": "Python 3.10.6 64-bit",
   "language": "python",
   "name": "python3"
  },
  "language_info": {
   "name": "python",
   "version": "3.10.6"
  },
  "vscode": {
   "interpreter": {
    "hash": "7f566dce336bfc8cb20ae653b44fc09c541cb205f5c6bab88a7e1b2a12ddf1e6"
   }
  }
 },
 "nbformat": 4,
 "nbformat_minor": 5
}
