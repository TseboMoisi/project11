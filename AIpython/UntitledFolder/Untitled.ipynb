{
 "cells": [
  {
   "cell_type": "code",
   "execution_count": 1,
   "id": "de4f9752",
   "metadata": {},
   "outputs": [
    {
     "ename": "ModuleNotFoundError",
     "evalue": "No module named 'tensorflow'",
     "output_type": "error",
     "traceback": [
      "\u001b[1;31m---------------------------------------------------------------------------\u001b[0m",
      "\u001b[1;31mModuleNotFoundError\u001b[0m                       Traceback (most recent call last)",
      "Input \u001b[1;32mIn [1]\u001b[0m, in \u001b[0;36m<cell line: 1>\u001b[1;34m()\u001b[0m\n\u001b[1;32m----> 1\u001b[0m \u001b[38;5;28;01mimport\u001b[39;00m \u001b[38;5;21;01mtensorflow\u001b[39;00m \u001b[38;5;28;01mas\u001b[39;00m \u001b[38;5;21;01mtf\u001b[39;00m\n\u001b[0;32m      2\u001b[0m \u001b[38;5;28;01mimport\u001b[39;00m \u001b[38;5;21;01mnumpy\u001b[39;00m \u001b[38;5;28;01mas\u001b[39;00m \u001b[38;5;21;01mnp\u001b[39;00m\n\u001b[0;32m      3\u001b[0m \u001b[38;5;28;01mimport\u001b[39;00m \u001b[38;5;21;01mos\u001b[39;00m\n",
      "\u001b[1;31mModuleNotFoundError\u001b[0m: No module named 'tensorflow'"
     ]
    }
   ],
   "source": [
    "import tensorflow as tf\n",
    "import numpy as np\n",
    "import os\n",
    "\n",
    "PATH = os.getcwd()\n",
    "\n",
    "LOG_DIR = PATH+ '/output'\n",
    "\n",
    "config = tf.ConfigProto (\n",
    "    inter_op_parallelism_threads=4,\n",
    "    intra_op_parallesim_threads=4\n",
    ")\n",
    "\n",
    "x = tf.placeholder(tf.float32, shape=(1, 6), name='x')\n",
    "w = tf.placeholder(tf.float32, shape=(6, 1), name='w')\n",
    "b = tf.placeholder(tf.float32, shape=(1), name='b')\n",
    "# A given total weight y is calculated\n",
    "y = tf.matmul(x, w) + b\n",
    "# then the logistic sigmoid is applied to y which represents the \"x\" in the formal definition of the Logistic Sigmoid\n",
    "s = tf.nn.sigmoid(y)\n",
    "\n",
    "with tf.Session(config=config) as tfs:\n",
    "    tfs.run(tf.global_variables_initializer())\n",
    "    # For given variables:\n",
    "    w_t = [[.1, .7, .75, .60, .20]]  # the x inputs\n",
    "    x_1 = [[10, 2, 1., 6., 2.]]      # the corresponding weights\n",
    "    b_1 = [1]                        # the bias\n",
    "    w_1 = np.transpose(w_t)\n",
    "    value = tfs.run(s,\n",
    "        feed_dict={\n",
    "            x: x_1,\n",
    "            w: w_1,\n",
    "            b: b_1\n",
    "        }\n",
    "    )\n",
    "    \n",
    "print ('value for threshold calculation',value)\n",
    "print ('Availability of 1x', 1-value)\n",
    "\n",
    "#__________TensorBoard_______________________________\n",
    "\n",
    "#with tf.Session() as sess:\n",
    "\n",
    "Writer = tf.summary.FileWriter(\"directory on your machine\", tfs.graph)\n",
    "Write.close()\n",
    "\n",
    "\n",
    "def launchTensorBoard():\n",
    "    import os\n",
    "    os.system('tensorboard --logdir=' + 'your directory')\n",
    "    return\n",
    "\n",
    "import threading\n",
    "t = threading.Thread(target=launchTensorBoard, args=([]))\n",
    "t.start()\n",
    "\n",
    "tfs.close()"
   ]
  },
  {
   "cell_type": "code",
   "execution_count": null,
   "id": "c43a47c8",
   "metadata": {},
   "outputs": [],
   "source": []
  }
 ],
 "metadata": {
  "kernelspec": {
   "display_name": "Python 3 (ipykernel)",
   "language": "python",
   "name": "python3"
  },
  "language_info": {
   "codemirror_mode": {
    "name": "ipython",
    "version": 3
   },
   "file_extension": ".py",
   "mimetype": "text/x-python",
   "name": "python",
   "nbconvert_exporter": "python",
   "pygments_lexer": "ipython3",
   "version": "3.9.12"
  }
 },
 "nbformat": 4,
 "nbformat_minor": 5
}
